{
  "nbformat": 4,
  "nbformat_minor": 0,
  "metadata": {
    "colab": {
      "provenance": [],
      "gpuType": "T4"
    },
    "kernelspec": {
      "name": "python3",
      "display_name": "Python 3"
    },
    "language_info": {
      "name": "python"
    },
    "accelerator": "GPU"
  },
  "cells": [
    {
      "cell_type": "code",
      "execution_count": null,
      "metadata": {
        "id": "eHcTzYr2SvGh"
      },
      "outputs": [],
      "source": [
        "!mkdir -p ~/.kaggle\n",
        "!cp kaggle.json ~/.kaggle/"
      ]
    },
    {
      "cell_type": "code",
      "source": [
        "!kaggle datasets download -d salader/dogs-vs-cats"
      ],
      "metadata": {
        "colab": {
          "base_uri": "https://localhost:8080/"
        },
        "id": "r8xdUjPBTIVz",
        "outputId": "17aa2465-3381-4bca-d531-c2332ab03344"
      },
      "execution_count": null,
      "outputs": [
        {
          "output_type": "stream",
          "name": "stdout",
          "text": [
            "Warning: Your Kaggle API key is readable by other users on this system! To fix this, you can run 'chmod 600 /root/.kaggle/kaggle.json'\n",
            "Downloading dogs-vs-cats.zip to /content\n",
            " 99% 1.06G/1.06G [00:10<00:00, 107MB/s] \n",
            "100% 1.06G/1.06G [00:10<00:00, 104MB/s]\n"
          ]
        }
      ]
    },
    {
      "cell_type": "code",
      "source": [
        "from google.colab import drive\n",
        "drive.mount('/content/drive')"
      ],
      "metadata": {
        "colab": {
          "base_uri": "https://localhost:8080/"
        },
        "id": "C8Jl4k4LTK46",
        "outputId": "3a1bcddb-f296-49bb-c61a-03818857feba"
      },
      "execution_count": null,
      "outputs": [
        {
          "output_type": "stream",
          "name": "stdout",
          "text": [
            "Mounted at /content/drive\n"
          ]
        }
      ]
    },
    {
      "cell_type": "code",
      "source": [
        "import zipfile\n",
        "zip_ref = zipfile.ZipFile('/content/dogs-vs-cats.zip', 'r')\n",
        "zip_ref.extractall('/content')\n",
        "zip_ref.close()"
      ],
      "metadata": {
        "id": "ypMWbQMOTNhc"
      },
      "execution_count": null,
      "outputs": []
    },
    {
      "cell_type": "code",
      "source": [
        "import tensorflow as tf\n",
        "from tensorflow import keras\n",
        "from keras import Sequential\n",
        "from keras.layers import Dense,Conv2D,MaxPooling2D,Flatten,BatchNormalization,Dropout\n",
        "\n",
        "# Generators\n",
        "train_ds = keras.utils.image_dataset_from_directory(\n",
        "    directory='/content/train',\n",
        "    labels='inferred',\n",
        "    label_mode='int',\n",
        "    batch_size=32,\n",
        "    image_size=(256, 256)\n",
        ")\n",
        "\n",
        "validation_ds = keras.utils.image_dataset_from_directory(\n",
        "    directory='/content/test',\n",
        "    labels='inferred',\n",
        "    label_mode='int',\n",
        "    batch_size=32,\n",
        "    image_size=(256, 256)\n",
        ")\n",
        "\n",
        "# Normalize data\n",
        "def preprocess(image, label):\n",
        "    image = tf.cast(image / 255., tf.float32)\n",
        "    return image, label\n",
        "\n",
        "train_ds = train_ds.map(preprocess)\n",
        "validation_ds = validation_ds.map(preprocess)\n"
      ],
      "metadata": {
        "colab": {
          "base_uri": "https://localhost:8080/"
        },
        "id": "-Gs_UHjnTZb3",
        "outputId": "3fd3096f-f6f3-403a-a364-501caea0f764"
      },
      "execution_count": null,
      "outputs": [
        {
          "output_type": "stream",
          "name": "stdout",
          "text": [
            "Found 20000 files belonging to 2 classes.\n",
            "Found 5000 files belonging to 2 classes.\n"
          ]
        }
      ]
    },
    {
      "cell_type": "code",
      "source": [
        "import tensorflow as tf\n",
        "from tensorflow.keras.models import Sequential\n",
        "from tensorflow.keras.layers import Conv2D, BatchNormalization, MaxPooling2D, Flatten, Dense, Dropout\n",
        "from tensorflow.keras.optimizers import Adam\n",
        "from tensorflow.keras.callbacks import ReduceLROnPlateau, EarlyStopping\n",
        "from tensorflow.keras.preprocessing.image import ImageDataGenerator\n",
        "\n",
        "model = Sequential([\n",
        "    Conv2D(32, kernel_size=(3, 3), padding='valid', activation='relu', input_shape=(256, 256, 3)),\n",
        "    BatchNormalization(),\n",
        "    MaxPooling2D(pool_size=(2, 2), strides=2, padding='valid'),\n",
        "\n",
        "    Conv2D(64, kernel_size=(3, 3), padding='valid', activation='relu'),\n",
        "    BatchNormalization(),\n",
        "    MaxPooling2D(pool_size=(2, 2), strides=2, padding='valid'),\n",
        "\n",
        "    Conv2D(128, kernel_size=(3, 3), padding='valid', activation='relu'),\n",
        "    BatchNormalization(),\n",
        "    MaxPooling2D(pool_size=(2, 2), strides=2, padding='valid'),\n",
        "\n",
        "    Flatten(),\n",
        "\n",
        "    Dense(256, activation='relu', kernel_regularizer=tf.keras.regularizers.l2(0.001)),\n",
        "    Dropout(0.5),\n",
        "    Dense(128, activation='relu', kernel_regularizer=tf.keras.regularizers.l2(0.001)),\n",
        "    Dropout(0.5),\n",
        "    Dense(1, activation='sigmoid')\n",
        "])\n",
        "\n",
        "optimizer = Adam(learning_rate=0.00001)\n",
        "model.compile(optimizer=optimizer, loss='binary_crossentropy', metrics=['accuracy'])\n",
        "\n",
        "reduce_lr = ReduceLROnPlateau(monitor='val_loss', factor=0.2, patience=3, min_lr=0.0000001)\n",
        "early_stop = EarlyStopping(monitor='val_loss', patience=5, restore_best_weights=True)\n",
        "\n",
        "history = model.fit(train_ds, epochs=20, validation_data=validation_ds, callbacks=[reduce_lr, early_stop])\n"
      ],
      "metadata": {
        "colab": {
          "base_uri": "https://localhost:8080/"
        },
        "id": "P3-b5_s4TcCX",
        "outputId": "a607bf7c-b635-4ab3-fc2d-41583236b1ce"
      },
      "execution_count": null,
      "outputs": [
        {
          "output_type": "stream",
          "name": "stdout",
          "text": [
            "Epoch 1/20\n",
            "625/625 [==============================] - 80s 113ms/step - loss: 1.4326 - accuracy: 0.6047 - val_loss: 1.2690 - val_accuracy: 0.6856 - lr: 1.0000e-05\n",
            "Epoch 2/20\n",
            "625/625 [==============================] - 69s 111ms/step - loss: 1.2762 - accuracy: 0.6830 - val_loss: 1.2114 - val_accuracy: 0.7292 - lr: 1.0000e-05\n",
            "Epoch 3/20\n",
            "625/625 [==============================] - 74s 119ms/step - loss: 1.2159 - accuracy: 0.7219 - val_loss: 1.1738 - val_accuracy: 0.7550 - lr: 1.0000e-05\n",
            "Epoch 4/20\n",
            "625/625 [==============================] - 70s 111ms/step - loss: 1.1740 - accuracy: 0.7498 - val_loss: 1.1497 - val_accuracy: 0.7654 - lr: 1.0000e-05\n",
            "Epoch 5/20\n",
            "625/625 [==============================] - 71s 113ms/step - loss: 1.1238 - accuracy: 0.7789 - val_loss: 1.1398 - val_accuracy: 0.7698 - lr: 1.0000e-05\n",
            "Epoch 6/20\n",
            "625/625 [==============================] - 71s 113ms/step - loss: 1.0874 - accuracy: 0.7939 - val_loss: 1.1159 - val_accuracy: 0.7768 - lr: 1.0000e-05\n",
            "Epoch 7/20\n",
            "625/625 [==============================] - 68s 108ms/step - loss: 1.0331 - accuracy: 0.8231 - val_loss: 1.0956 - val_accuracy: 0.7812 - lr: 1.0000e-05\n",
            "Epoch 8/20\n",
            "625/625 [==============================] - 71s 112ms/step - loss: 0.9868 - accuracy: 0.8408 - val_loss: 1.0852 - val_accuracy: 0.7880 - lr: 1.0000e-05\n",
            "Epoch 9/20\n",
            "625/625 [==============================] - 71s 114ms/step - loss: 0.9401 - accuracy: 0.8609 - val_loss: 1.0684 - val_accuracy: 0.7926 - lr: 1.0000e-05\n",
            "Epoch 10/20\n",
            "625/625 [==============================] - 68s 109ms/step - loss: 0.8950 - accuracy: 0.8760 - val_loss: 1.0553 - val_accuracy: 0.7938 - lr: 1.0000e-05\n",
            "Epoch 11/20\n",
            "625/625 [==============================] - 70s 112ms/step - loss: 0.8463 - accuracy: 0.8915 - val_loss: 1.0380 - val_accuracy: 0.7998 - lr: 1.0000e-05\n",
            "Epoch 12/20\n",
            "625/625 [==============================] - 68s 108ms/step - loss: 0.7953 - accuracy: 0.9109 - val_loss: 1.0330 - val_accuracy: 0.8016 - lr: 1.0000e-05\n",
            "Epoch 13/20\n",
            "625/625 [==============================] - 71s 114ms/step - loss: 0.7573 - accuracy: 0.9196 - val_loss: 1.0278 - val_accuracy: 0.7966 - lr: 1.0000e-05\n",
            "Epoch 14/20\n",
            "625/625 [==============================] - 68s 108ms/step - loss: 0.7097 - accuracy: 0.9320 - val_loss: 1.0017 - val_accuracy: 0.7992 - lr: 1.0000e-05\n",
            "Epoch 15/20\n",
            "625/625 [==============================] - 70s 111ms/step - loss: 0.6679 - accuracy: 0.9416 - val_loss: 1.0013 - val_accuracy: 0.8052 - lr: 1.0000e-05\n",
            "Epoch 16/20\n",
            "625/625 [==============================] - 68s 108ms/step - loss: 0.6267 - accuracy: 0.9507 - val_loss: 1.0061 - val_accuracy: 0.8036 - lr: 1.0000e-05\n",
            "Epoch 17/20\n",
            "625/625 [==============================] - 72s 114ms/step - loss: 0.5946 - accuracy: 0.9561 - val_loss: 0.9797 - val_accuracy: 0.8072 - lr: 1.0000e-05\n",
            "Epoch 18/20\n",
            "625/625 [==============================] - 71s 113ms/step - loss: 0.5617 - accuracy: 0.9584 - val_loss: 0.9597 - val_accuracy: 0.8086 - lr: 1.0000e-05\n",
            "Epoch 19/20\n",
            "625/625 [==============================] - 71s 113ms/step - loss: 0.5317 - accuracy: 0.9653 - val_loss: 0.9816 - val_accuracy: 0.8102 - lr: 1.0000e-05\n",
            "Epoch 20/20\n",
            "625/625 [==============================] - 71s 112ms/step - loss: 0.5020 - accuracy: 0.9697 - val_loss: 0.9418 - val_accuracy: 0.8142 - lr: 1.0000e-05\n"
          ]
        }
      ]
    },
    {
      "cell_type": "code",
      "source": [
        "test_loss, test_accuracy = model.evaluate(validation_ds)\n",
        "print(f'Test Loss: {test_loss}, Test Accuracy: {test_accuracy}')\n"
      ],
      "metadata": {
        "colab": {
          "base_uri": "https://localhost:8080/"
        },
        "id": "98Zw3lG4TeyQ",
        "outputId": "7f497f11-47fc-425b-c2a1-894c40c6de74"
      },
      "execution_count": null,
      "outputs": [
        {
          "output_type": "stream",
          "name": "stdout",
          "text": [
            "157/157 [==============================] - 10s 60ms/step - loss: 0.9418 - accuracy: 0.8142\n",
            "Test Loss: 0.9417577385902405, Test Accuracy: 0.8141999840736389\n"
          ]
        }
      ]
    },
    {
      "cell_type": "code",
      "source": [
        "import matplotlib.pyplot as plt\n",
        "\n",
        "plt.plot(history.history['accuracy'],color='red',label='train')\n",
        "plt.plot(history.history['val_accuracy'],color='blue',label='validation')\n",
        "plt.legend()\n",
        "plt.show()"
      ],
      "metadata": {
        "colab": {
          "base_uri": "https://localhost:8080/",
          "height": 430
        },
        "id": "CCmW9r-uTgcl",
        "outputId": "fb05d881-7c5b-45a0-ab1f-d0315187dd7c"
      },
      "execution_count": null,
      "outputs": [
        {
          "output_type": "display_data",
          "data": {
            "text/plain": [
              "<Figure size 640x480 with 1 Axes>"
            ],
            "image/png": "[encoded data removed]"
          },
          "metadata": {}
        }
      ]
    },
    {
      "cell_type": "code",
      "source": [
        "plt.plot(history.history['loss'],color='red',label='train')\n",
        "plt.plot(history.history['val_loss'],color='blue',label='validation')\n",
        "plt.legend()\n",
        "plt.show()"
      ],
      "metadata": {
        "colab": {
          "base_uri": "https://localhost:8080/",
          "height": 430
        },
        "id": "Ac0owyhbTi-2",
        "outputId": "32f12e7c-4539-43c2-e95c-03a8bf3708b1"
      },
      "execution_count": null,
      "outputs": [
        {
          "output_type": "display_data",
          "data": {
            "text/plain": [
              "<Figure size 640x480 with 1 Axes>"
            ],
            "image/png": "[encoded data removed]"
          },
          "metadata": {}
        }
      ]
    },
    {
      "cell_type": "code",
      "source": [
        "import numpy as np\n",
        "from tensorflow.keras.preprocessing.image import load_img, img_to_array\n",
        "\n",
        "test_image_path = '/content/dog.jpg'\n",
        "test_image = load_img(test_image_path, target_size=(256, 256))\n",
        "test_image_array = img_to_array(test_image)\n",
        "test_image_array = np.expand_dims(test_image_array, axis=0)\n",
        "test_image_array = test_image_array / 255.0\n",
        "\n",
        "prediction = model.predict(test_image_array)\n",
        "\n",
        "print(prediction)\n"
      ],
      "metadata": {
        "colab": {
          "base_uri": "https://localhost:8080/"
        },
        "id": "xTK_5-TVTlev",
        "outputId": "47b76f47-82fc-4992-ffce-245b63c84569"
      },
      "execution_count": null,
      "outputs": [
        {
          "output_type": "stream",
          "name": "stdout",
          "text": [
            "1/1 [==============================] - 0s 21ms/step\n",
            "[[0.9868241]]\n"
          ]
        }
      ]
    }
  ]
}